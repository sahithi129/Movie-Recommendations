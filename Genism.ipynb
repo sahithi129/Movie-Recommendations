{
 "cells": [
  {
   "cell_type": "markdown",
   "metadata": {
    "_uuid": "1edcfa72a0f440bd402f6611c16fb90ae99817c1"
   },
   "source": [
    "# Exploring Embeddings with Gensim / vector math\n",
    "\n",
    "Earlier we trained a model to predict the ratings users would give to movies using a network with embeddings learned for each movie and user. Embeddings are powerful! But how do they actually work?\n",
    "\n",
    "Previously, I claimed that embeddings capture the 'meaning' of the objects they represent, and discover useful latent structure. Let's see that using Genism.\n",
    "\n",
    "In this notebook, we perform some exploration of our trained movie embeddings, using some of the Gensim tools.\n",
    "\n",
    "## Looking up embeddings\n",
    "Let's load a model we trained earlier so we can investigate the embedding weights that it learned."
   ]
  },
  {
   "cell_type": "code",
   "execution_count": 1,
   "metadata": {
    "_uuid": "bf825cf46ed754522bd87bb70660584996a505c8"
   },
   "outputs": [
    {
     "name": "stderr",
     "output_type": "stream",
     "text": [
      "c:\\users\\sahit\\venv\\lib\\site-packages\\gensim\\utils.py:1212: UserWarning: detected Windows; aliasing chunkize to chunkize_serial\n",
      "  warnings.warn(\"detected Windows; aliasing chunkize to chunkize_serial\")\n"
     ]
    },
    {
     "data": {
      "text/plain": [
       "(26744, 8)"
      ]
     },
     "execution_count": 1,
     "metadata": {},
     "output_type": "execute_result"
    }
   ],
   "source": [
    "#To get started, run the setup cell below to import the libraries we'll be using, load our raw embedding data, \n",
    "#and wrap it in a `WordEmbeddingsKeyedVectors` object.\n",
    "\n",
    "import os\n",
    "\n",
    "import numpy as np\n",
    "import pandas as pd\n",
    "from matplotlib import pyplot as plt\n",
    "import tensorflow as tf\n",
    "from tensorflow import keras\n",
    "from gensim.models.keyedvectors import WordEmbeddingsKeyedVectors\n",
    "\n",
    "\n",
    "model = keras.models.load_model('best_model.h5')\n",
    "\n",
    "\"\"\"The embedding weights are part of the model's internals, so we'll have to do a bit of digging around to access them. \n",
    "We'll grab the layer responsible for embedding movies, and use the get_weights() method to get its learned weights.\"\"\"\n",
    "\n",
    "emb_layer = model.get_layer('movie_embedding')\n",
    "(w,) = emb_layer.get_weights()\n",
    "movie_embedding_size = w.shape[1]\n",
    "\n",
    "w.shape\n"
   ]
  },
  {
   "cell_type": "markdown",
   "metadata": {},
   "source": [
    "Our weight matrix has 26,744 rows for that many movies. Each row is 8 numbers - the size of our movie embeddings.\n",
    "\n",
    "Let's look at an example movie vector:\n"
   ]
  },
  {
   "cell_type": "code",
   "execution_count": 12,
   "metadata": {},
   "outputs": [
    {
     "data": {
      "text/plain": [
       "array([ 0.28126636, -0.01599566, -0.02855809,  0.53167796,  0.7911056 ,\n",
       "       -0.33743697,  0.13268907, -0.57071614], dtype=float32)"
      ]
     },
     "execution_count": 12,
     "metadata": {},
     "output_type": "execute_result"
    }
   ],
   "source": [
    "w[0]"
   ]
  },
  {
   "cell_type": "markdown",
   "metadata": {},
   "source": [
    "What movie is this the embedding of? Let's load up our dataframe of movie metadata.\n",
    "\n"
   ]
  },
  {
   "cell_type": "code",
   "execution_count": 19,
   "metadata": {},
   "outputs": [
    {
     "data": {
      "text/html": [
       "<div>\n",
       "<style scoped>\n",
       "    .dataframe tbody tr th:only-of-type {\n",
       "        vertical-align: middle;\n",
       "    }\n",
       "\n",
       "    .dataframe tbody tr th {\n",
       "        vertical-align: top;\n",
       "    }\n",
       "\n",
       "    .dataframe thead th {\n",
       "        text-align: right;\n",
       "    }\n",
       "</style>\n",
       "<table border=\"1\" class=\"dataframe\">\n",
       "  <thead>\n",
       "    <tr style=\"text-align: right;\">\n",
       "      <th></th>\n",
       "      <th>movieId</th>\n",
       "      <th>title</th>\n",
       "      <th>genres</th>\n",
       "      <th>year</th>\n",
       "      <th>key</th>\n",
       "      <th>n_ratings</th>\n",
       "      <th>mean_rating</th>\n",
       "    </tr>\n",
       "  </thead>\n",
       "  <tbody>\n",
       "    <tr>\n",
       "      <th>0</th>\n",
       "      <td>0</td>\n",
       "      <td>Toy Story</td>\n",
       "      <td>Adventure|Animation|Children|Comedy|Fantasy</td>\n",
       "      <td>1995</td>\n",
       "      <td>Toy Story</td>\n",
       "      <td>49695</td>\n",
       "      <td>3.921240</td>\n",
       "    </tr>\n",
       "    <tr>\n",
       "      <th>1</th>\n",
       "      <td>1</td>\n",
       "      <td>Jumanji</td>\n",
       "      <td>Adventure|Children|Fantasy</td>\n",
       "      <td>1995</td>\n",
       "      <td>Jumanji</td>\n",
       "      <td>22243</td>\n",
       "      <td>3.211977</td>\n",
       "    </tr>\n",
       "    <tr>\n",
       "      <th>2</th>\n",
       "      <td>2</td>\n",
       "      <td>Grumpier Old Men</td>\n",
       "      <td>Comedy|Romance</td>\n",
       "      <td>1995</td>\n",
       "      <td>Grumpier Old Men</td>\n",
       "      <td>12735</td>\n",
       "      <td>3.151040</td>\n",
       "    </tr>\n",
       "    <tr>\n",
       "      <th>3</th>\n",
       "      <td>3</td>\n",
       "      <td>Waiting to Exhale</td>\n",
       "      <td>Comedy|Drama|Romance</td>\n",
       "      <td>1995</td>\n",
       "      <td>Waiting to Exhale</td>\n",
       "      <td>2756</td>\n",
       "      <td>2.861393</td>\n",
       "    </tr>\n",
       "    <tr>\n",
       "      <th>4</th>\n",
       "      <td>4</td>\n",
       "      <td>Father of the Bride Part II</td>\n",
       "      <td>Comedy</td>\n",
       "      <td>1995</td>\n",
       "      <td>Father of the Bride Part II</td>\n",
       "      <td>12161</td>\n",
       "      <td>3.064592</td>\n",
       "    </tr>\n",
       "  </tbody>\n",
       "</table>\n",
       "</div>"
      ],
      "text/plain": [
       "   movieId                        title  \\\n",
       "0        0                    Toy Story   \n",
       "1        1                      Jumanji   \n",
       "2        2             Grumpier Old Men   \n",
       "3        3            Waiting to Exhale   \n",
       "4        4  Father of the Bride Part II   \n",
       "\n",
       "                                        genres  year  \\\n",
       "0  Adventure|Animation|Children|Comedy|Fantasy  1995   \n",
       "1                   Adventure|Children|Fantasy  1995   \n",
       "2                               Comedy|Romance  1995   \n",
       "3                         Comedy|Drama|Romance  1995   \n",
       "4                                       Comedy  1995   \n",
       "\n",
       "                           key  n_ratings  mean_rating  \n",
       "0                    Toy Story      49695     3.921240  \n",
       "1                      Jumanji      22243     3.211977  \n",
       "2             Grumpier Old Men      12735     3.151040  \n",
       "3            Waiting to Exhale       2756     2.861393  \n",
       "4  Father of the Bride Part II      12161     3.064592  "
      ]
     },
     "execution_count": 19,
     "metadata": {},
     "output_type": "execute_result"
    }
   ],
   "source": [
    "movies_df = pd.read_csv('movies.csv')\n",
    "\n",
    "movies_df.head()\n"
   ]
  },
  {
   "cell_type": "markdown",
   "metadata": {},
   "source": [
    "Of course, it's Toy Story! \n",
    "\n",
    "So how do we check whether these representations are sane and coherent?"
   ]
  },
  {
   "cell_type": "markdown",
   "metadata": {},
   "source": [
    "## 1. Finding Vector similarity\n",
    "\n",
    "A simple way to test this is to look at how close or distant pairs of movies are in the embedding space. Embeddings can be thought of as a smart distance metric. If our embedding matrix is any good, it should map similar movies (like Toy Story and Shrek) to similar vectors."
   ]
  },
  {
   "cell_type": "code",
   "execution_count": 24,
   "metadata": {},
   "outputs": [],
   "source": [
    "toy_story = w[0]\n",
    "shrek = w[movies_df.loc[\n",
    "    movies_df.title == 'Shrek',\n",
    "    'movieId'].iloc[0]]\n",
    "\n",
    "exorcist = w[movies_df.loc[\n",
    "    movies_df.title == 'The Exorcist',\n",
    "    'movieId'].iloc[0]]\n",
    "\n"
   ]
  },
  {
   "cell_type": "code",
   "execution_count": 25,
   "metadata": {},
   "outputs": [
    {
     "data": {
      "text/plain": [
       "0.6755921840667725"
      ]
     },
     "execution_count": 25,
     "metadata": {},
     "output_type": "execute_result"
    }
   ],
   "source": [
    "#If we wanted to assign a single number to their similarity, \n",
    "#we could calculate the euclidean distance between these two vectors.\n",
    "\n",
    "from scipy.spatial import distance\n",
    "\n",
    "distance.euclidean(toy_story, shrek)"
   ]
  },
  {
   "cell_type": "markdown",
   "metadata": {},
   "source": [
    "### Cosine Distance\n",
    "\n",
    "When judging the similarity of embeddings, it's more common to use cosine similarity because cosine distance with so many deep learning techniques, is \"empirically, it works well\". \n",
    "\n",
    "In brief, the cosine similarity of two vectors ranges from -1 to 1, and is a function of the angle between the vectors. If two vectors point in the same direction, their cosine similarity is 1. If they point in opposite directions, it's -1. If they're orthogonal (i.e. at right angles), their cosine similarity is 0.\n",
    "\n",
    "Cosine distance is just defined as 1 minus the cosine similarity (and therefore ranges from 0 to 2).\n",
    "\n",
    "Let's calculate a couple cosine distances between movie vectors:"
   ]
  },
  {
   "cell_type": "code",
   "execution_count": 26,
   "metadata": {},
   "outputs": [
    {
     "data": {
      "text/plain": [
       "0.1716126799583435"
      ]
     },
     "execution_count": 26,
     "metadata": {},
     "output_type": "execute_result"
    }
   ],
   "source": [
    "distance.cosine(toy_story, shrek)"
   ]
  },
  {
   "cell_type": "code",
   "execution_count": 27,
   "metadata": {},
   "outputs": [
    {
     "data": {
      "text/plain": [
       "0.5123173594474792"
      ]
     },
     "execution_count": 27,
     "metadata": {},
     "output_type": "execute_result"
    }
   ],
   "source": [
    "distance.cosine(toy_story, exorcist)"
   ]
  },
  {
   "cell_type": "markdown",
   "metadata": {},
   "source": [
    "Which movies are most similar to Toy Story? Which movies fall right between Psycho and Scream in the embedding space? We could explore that using a library for exactly this sort of work: **Gensim**.\n",
    "\n",
    "I'll instantiate an instance of WordEmbeddingsKeyedVectors with our model's movie embeddings and the titles of the corresponding movies.\n",
    "\n",
    ">Aside: Gensim's is a topic modelling library it's docs and many of its class and method names refer to word embeddings. While the library is most frequently used in the text domain, we can use it to explore embeddings of any sort."
   ]
  },
  {
   "cell_type": "code",
   "execution_count": 28,
   "metadata": {},
   "outputs": [],
   "source": [
    "kv = WordEmbeddingsKeyedVectors(movie_embedding_size)\n",
    "\n",
    "threshold = 100\n",
    "\n",
    "movies = movies_df[movies_df.n_ratings >= threshold].reset_index(drop=False)\n",
    "\n",
    "kv.add(\n",
    "    movies['key'].values,\n",
    "    w[movies.movieId]\n",
    ")"
   ]
  },
  {
   "cell_type": "code",
   "execution_count": 44,
   "metadata": {},
   "outputs": [
    {
     "data": {
      "text/html": [
       "<div>\n",
       "<style scoped>\n",
       "    .dataframe tbody tr th:only-of-type {\n",
       "        vertical-align: middle;\n",
       "    }\n",
       "\n",
       "    .dataframe tbody tr th {\n",
       "        vertical-align: top;\n",
       "    }\n",
       "\n",
       "    .dataframe thead th {\n",
       "        text-align: right;\n",
       "    }\n",
       "</style>\n",
       "<table border=\"1\" class=\"dataframe\">\n",
       "  <thead>\n",
       "    <tr style=\"text-align: right;\">\n",
       "      <th></th>\n",
       "      <th>index</th>\n",
       "      <th>movieId</th>\n",
       "      <th>title</th>\n",
       "      <th>genres</th>\n",
       "      <th>year</th>\n",
       "      <th>key</th>\n",
       "      <th>n_ratings</th>\n",
       "      <th>mean_rating</th>\n",
       "    </tr>\n",
       "  </thead>\n",
       "  <tbody>\n",
       "    <tr>\n",
       "      <th>1429</th>\n",
       "      <td>1661</td>\n",
       "      <td>1661</td>\n",
       "      <td>Titanic</td>\n",
       "      <td>Drama|Romance</td>\n",
       "      <td>1997</td>\n",
       "      <td>Titanic (1997)</td>\n",
       "      <td>32238</td>\n",
       "      <td>3.338188</td>\n",
       "    </tr>\n",
       "    <tr>\n",
       "      <th>1793</th>\n",
       "      <td>2073</td>\n",
       "      <td>2073</td>\n",
       "      <td>Chambermaid on the Titanic, The (Femme de cham...</td>\n",
       "      <td>Romance</td>\n",
       "      <td>1998</td>\n",
       "      <td>Chambermaid on the Titanic, The (Femme de cham...</td>\n",
       "      <td>119</td>\n",
       "      <td>3.310924</td>\n",
       "    </tr>\n",
       "    <tr>\n",
       "      <th>2825</th>\n",
       "      <td>3315</td>\n",
       "      <td>3315</td>\n",
       "      <td>Raise the Titanic</td>\n",
       "      <td>Drama|Thriller</td>\n",
       "      <td>1980</td>\n",
       "      <td>Raise the Titanic</td>\n",
       "      <td>198</td>\n",
       "      <td>2.578283</td>\n",
       "    </tr>\n",
       "    <tr>\n",
       "      <th>2826</th>\n",
       "      <td>3316</td>\n",
       "      <td>3316</td>\n",
       "      <td>Titanic</td>\n",
       "      <td>Action|Drama</td>\n",
       "      <td>1953</td>\n",
       "      <td>Titanic (1953)</td>\n",
       "      <td>1733</td>\n",
       "      <td>3.258800</td>\n",
       "    </tr>\n",
       "    <tr>\n",
       "      <th>3975</th>\n",
       "      <td>4768</td>\n",
       "      <td>4768</td>\n",
       "      <td>Titanica</td>\n",
       "      <td>Documentary|IMAX</td>\n",
       "      <td>1992</td>\n",
       "      <td>Titanica</td>\n",
       "      <td>110</td>\n",
       "      <td>3.104545</td>\n",
       "    </tr>\n",
       "  </tbody>\n",
       "</table>\n",
       "</div>"
      ],
      "text/plain": [
       "      index  movieId                                              title  \\\n",
       "1429   1661     1661                                            Titanic   \n",
       "1793   2073     2073  Chambermaid on the Titanic, The (Femme de cham...   \n",
       "2825   3315     3315                                  Raise the Titanic   \n",
       "2826   3316     3316                                            Titanic   \n",
       "3975   4768     4768                                           Titanica   \n",
       "\n",
       "                genres  year  \\\n",
       "1429     Drama|Romance  1997   \n",
       "1793           Romance  1998   \n",
       "2825    Drama|Thriller  1980   \n",
       "2826      Action|Drama  1953   \n",
       "3975  Documentary|IMAX  1992   \n",
       "\n",
       "                                                    key  n_ratings  \\\n",
       "1429                                     Titanic (1997)      32238   \n",
       "1793  Chambermaid on the Titanic, The (Femme de cham...        119   \n",
       "2825                                  Raise the Titanic        198   \n",
       "2826                                     Titanic (1953)       1733   \n",
       "3975                                           Titanica        110   \n",
       "\n",
       "      mean_rating  \n",
       "1429     3.338188  \n",
       "1793     3.310924  \n",
       "2825     2.578283  \n",
       "2826     3.258800  \n",
       "3975     3.104545  "
      ]
     },
     "execution_count": 44,
     "metadata": {},
     "output_type": "execute_result"
    }
   ],
   "source": [
    "# looking up a movie, you may want to find similar movies for\n",
    "\n",
    "movies[movies.title.str.contains('Titanic')]\n"
   ]
  },
  {
   "cell_type": "markdown",
   "metadata": {
    "_uuid": "71ce2490d02ae38f1072a4bf23767cefab34073b"
   },
   "source": [
    "Okay, so which movies are most similar to Titanic?\n",
    "\n",
    "We use `kv.most_similar` method on a few of your favourite movies."
   ]
  },
  {
   "cell_type": "code",
   "execution_count": 38,
   "metadata": {
    "_uuid": "29bef7701b1e32a1c0ec3650d965f68d67584a6a"
   },
   "outputs": [
    {
     "data": {
      "text/plain": [
       "[(\"My Best Friend's Wedding\", 0.9632135629653931),\n",
       " ('Beaches', 0.9585211277008057),\n",
       " ('Mrs. Doubtfire', 0.9567484259605408),\n",
       " ('The River Wild', 0.9447559118270874),\n",
       " ('Homeward Bound: The Incredible Journey', 0.9379501342773438),\n",
       " ('Titanic (1997)', 0.9370995163917542),\n",
       " ('Ghost', 0.9368044137954712),\n",
       " ('My Girl', 0.9362284541130066),\n",
       " ('Sleepless in Seattle', 0.9305105209350586),\n",
       " (\"You've Got Mail\", 0.928631603717804)]"
      ]
     },
     "execution_count": 38,
     "metadata": {},
     "output_type": "execute_result"
    }
   ],
   "source": [
    "# Note: you should always pass 'key' attribute of movies dataset to find similar genre movies\n",
    "kv.most_similar('Titanic (1953)')"
   ]
  },
  {
   "cell_type": "markdown",
   "metadata": {},
   "source": [
    "As you can see from above results we got the similar genre movies with highest distance score value. For fun we can give many movies to find the similar recommendations based on our interest   "
   ]
  },
  {
   "cell_type": "markdown",
   "metadata": {},
   "source": [
    "So it's learned something about 3-d animated kids flick, but maybe that was just a fluke. Let's look at the closest neighbours for a few more movies from a variety of genres:"
   ]
  },
  {
   "cell_type": "code",
   "execution_count": 59,
   "metadata": {},
   "outputs": [
    {
     "data": {
      "image/png": "[encoded data removed]",
      "text/plain": [
       "<Figure size 1080x648 with 6 Axes>"
      ]
     },
     "metadata": {
      "needs_background": "light"
     },
     "output_type": "display_data"
    }
   ],
   "source": [
    "import textwrap\n",
    "movies = ['Eyes Wide Shut', 'American Pie', 'Iron Man 3', 'The Judge',\n",
    "          'Battleship Potemkin', 'U-571'\n",
    "]\n",
    "\n",
    "def plot_most_similar(movie, ax, topn=5):\n",
    "    sim = kv.most_similar(movie, topn=topn)[::-1]\n",
    "    y = np.arange(len(sim))\n",
    "    w = [t[1] for t in sim]\n",
    "    ax.barh(y, w)\n",
    "    left = min(.6, min(w))\n",
    "    ax.set_xlim(right=1.0, left=left)\n",
    "    # Split long titles over multiple lines\n",
    "    labels = [textwrap.fill(t[0] , width=24)\n",
    "              for t in sim]\n",
    "    ax.set_yticks(y)\n",
    "    ax.set_yticklabels(labels)\n",
    "    ax.set_title(movie)    \n",
    "\n",
    "fig, axes = plt.subplots(3, 2, figsize=(15, 9))\n",
    "\n",
    "for movie, ax in zip(movies, axes.flatten()):\n",
    "    plot_most_similar(movie, ax)\n",
    "    \n",
    "fig.tight_layout()"
   ]
  },
  {
   "cell_type": "markdown",
   "metadata": {},
   "source": [
    "Thriller/mystery,Romanntic comedy, superhero science fiction, silent drama historical, Action-comedy drama, full action genres, Our embeddings manage to nail a wide variety of cinematic niches!"
   ]
  },
  {
   "cell_type": "markdown",
   "metadata": {
    "_uuid": "7881ab511630f0af94a941ef35c4b79e3ec326a8"
   },
   "source": [
    "## 2. Semantic vector math and Analogy solving\n",
    "\n",
    "\n",
    "So far we've seen the `most_similar()` method called in the following ways:\n",
    "- with a single (positive) example `m1`, giving us the movies most similar to `m1`\n",
    "- with one positive example, `m1`, and one negative example, `m2`. The results seem to roughly correspond to the question \"which movies exemplify the properties that `m1` has and `m2` doesn't?\"\n",
    "- with two positive examples, `m1` and `m2`, and one negative example, `m3`, which answers the analogy \"`m3` is to `m2` as `m1` is to ____\".\n",
    "\n",
    "What do you think will happen (mathematically, and semantically) if we call it with two positive examples, and no negative examples? \n",
    "\n",
    "In the code cell below, we call `most_similar()` and pass two positive movie samples and we'll see how well method can predict what kinds of movies."
   ]
  },
  {
   "cell_type": "code",
   "execution_count": 46,
   "metadata": {
    "_uuid": "e138e29778825af6e30fd83a1c0cf8f06c472096"
   },
   "outputs": [
    {
     "data": {
      "text/plain": [
       "[(\"Can't Buy Me Love\", 0.9842299222946167),\n",
       " ('Sinbad: Legend of the Seven Seas', 0.9808305501937866),\n",
       " ('Blue Collar Comedy Tour: The Movie', 0.9761831760406494),\n",
       " ('Jumanji', 0.9754784107208252),\n",
       " (\"It's a Boy Girl Thing\", 0.9717432260513306),\n",
       " ('U-571', 0.9682282209396362),\n",
       " ('Shrek Forever After (a.k.a. Shrek: The Final Chapter)', 0.9675494432449341),\n",
       " ('Night at the Museum', 0.9652889966964722),\n",
       " ('Eight Below', 0.9649732112884521),\n",
       " ('The Judge', 0.9641647338867188)]"
      ]
     },
     "execution_count": 46,
     "metadata": {},
     "output_type": "execute_result"
    }
   ],
   "source": [
    "# TODO: call most_similar with the movies \"Legally Blonde\" and \"Mission: Impossible\" as positive examples,\n",
    "# and assign the results to the variable legally_impossible\n",
    "legally_impossible = kv.most_similar(positive = ['Legally Blonde', 'Mission: Impossible'])\n",
    "legally_impossible"
   ]
  },
  {
   "cell_type": "markdown",
   "metadata": {
    "_uuid": "7c0f7b640fe318c827c95e364160a93b4f424bba"
   },
   "source": [
    "Try experimenting with adding other pairs of movies. Do you see a pattern emerging?\n",
    "\n",
    "What do you think happens if we pass in the same movie twice?"
   ]
  },
  {
   "cell_type": "code",
   "execution_count": 48,
   "metadata": {
    "_uuid": "cf875639dc281d544a46a762c0267f2d5d0984fa"
   },
   "outputs": [
    {
     "data": {
      "text/plain": [
       "[(\"My Best Friend's Wedding\", 0.9632135629653931),\n",
       " ('Beaches', 0.9585211277008057),\n",
       " ('Mrs. Doubtfire', 0.9567484259605408),\n",
       " ('The River Wild', 0.9447559118270874),\n",
       " ('Homeward Bound: The Incredible Journey', 0.9379501342773438),\n",
       " ('Titanic (1997)', 0.9370995163917542),\n",
       " ('Ghost', 0.9368044137954712),\n",
       " ('My Girl', 0.9362284541130066),\n",
       " ('Sleepless in Seattle', 0.9305105209350586),\n",
       " (\"You've Got Mail\", 0.928631603717804)]"
      ]
     },
     "execution_count": 48,
     "metadata": {},
     "output_type": "execute_result"
    }
   ],
   "source": [
    "# Feel free to continue experimenting here.\n",
    "\n",
    "same_movie = kv.most_similar(positive=['Titanic (1953)', 'Titanic (1953)'])\n",
    "same_movie"
   ]
  },
  {
   "cell_type": "markdown",
   "metadata": {
    "_uuid": "84823db76c908b49d558ba3274011b1f0897f063"
   },
   "source": [
    "Passing in two positive examples, `m1` and `m2`, finds the vectors that are most similar to `m1 + m2`. Semantically, this corresponds to movies that are about halfway between `m1` and `m2` in terms of meaning. \n",
    "\n",
    "In light of this interpretation, some of our `legally_impossible` results make a lot of sense. *Eight Below*, *Jumanji*, and *Night at the Museum* are all examples of movies the \"comedy\" properties of *Legally Blonde* with the action/adventure movie properties of *Mission: Impossible*.\n",
    "\n",
    "What happens if we run something like `kv.most_similar(positive=['Titanic (1953)', 'Titanic (1953)'])`? We get the exact same results as `kv.most_similar('Titanic (1953)')`. The reason comes down to our use of cosine distance. If we add a movie vector `m1` to itself, we get a vector that's twice as long, but its *angle* remains the same. So for any pair of movies `m1`, `m2`, `distance.cosine(m1, m2) == distance.cosine(m1+m1, m2)`.\n"
   ]
  },
  {
   "cell_type": "markdown",
   "metadata": {
    "_uuid": "1f715073cd13e35928a2192b6b7e3ea5d5289447"
   },
   "source": [
    "**Bonus**: Pick a movie you like (let's call it `m`), and see if you can find two other movies, `m1` and `m2` such that `m1 + m2 ≈ m`. Of course you're pretty likely to succeed if you choose two movies which are each similar to `m`, but can you come up with a pair of very *different* movies that have `m` right between them? Again, if you're successful here, feel free to share on [the forums](https://www.kaggle.com/learn-forum)."
   ]
  },
  {
   "cell_type": "markdown",
   "metadata": {
    "_uuid": "736169c91dd6662745ed7e1890e53e0504a1aef9"
   },
   "source": [
    "## 3. Cosine distance vs. Euclidean distance\n",
    "\n",
    "If you're familiar with linear algebra, you may know that the cosine distance and euclidean distance of two vectors are equivalent (up to a scaling factor) if those vectors have the same length. In particular, when our vectors both have length 1, their euclidean distance is just twice their cosine distance.\n",
    "\n",
    "Given that we cared about using cosine distance rather than Euclidean distance, we must have some reason to believe that our embedding vectors vary in length. But how much? And is there any pattern to which movies' vectors are long or short?"
   ]
  },
  {
   "cell_type": "markdown",
   "metadata": {
    "_uuid": "cc78000cc29c7edb2108e349db040eb9261fe31d"
   },
   "source": [
    "### 3a. Distribution of lengths\n",
    "\n",
    "Just as there are lots of definitions of distance, there are lots of definitions of length. But we'll be using the familiar notion, technically called the 'Euclidean norm' or 'L2 norm'. What's the length of the vector `(3, 4)`? Well, if we start at `(0, 0)`, walk 3 steps to the right, and then 4 steps up, we'll get a right triangle where the hypotenuse connects `(3, 4)` to `(0, 0)`. By the Pythagorean theorem, the length of that hypotenuse is $\\sqrt{3^2 + 4^2} = \\sqrt{25} = 5$. We can extend the calculation to any number of dimensions - for example, the L2 norm of the vector `(1, 1, 3, 5)` is $\\sqrt{1^2 + 1^2 + 3^2 + 5^2} = 6$.\n",
    "\n",
    "Fortunately, we don't need to implement the calculations ourselves. Given a vector, the function [`numpy.linalg.norm`](https://docs.scipy.org/doc/numpy/reference/generated/numpy.linalg.norm.html) returns its L2 norm. Run the cell below to calculate the L2 norm of our model's first movie embedding vector:"
   ]
  },
  {
   "cell_type": "code",
   "execution_count": 49,
   "metadata": {
    "_uuid": "3a99d0ac9eeaff88cfd614a72b00c4a70c55e305"
   },
   "outputs": [
    {
     "data": {
      "text/plain": [
       "1.2024553"
      ]
     },
     "execution_count": 49,
     "metadata": {},
     "output_type": "execute_result"
    }
   ],
   "source": [
    "np.linalg.norm(w[0])"
   ]
  },
  {
   "cell_type": "markdown",
   "metadata": {
    "_uuid": "9fbcc341dfa7d86af710caa363b46f3e1986ac3d"
   },
   "source": [
    "Fill in the missing code in the cell below to create a variable `norms`, containing the L2 norms of all the model's movie embeddings."
   ]
  },
  {
   "cell_type": "code",
   "execution_count": 51,
   "metadata": {
    "_uuid": "8fefc7a383f4daa13b84fadf70287b5afdf55047"
   },
   "outputs": [],
   "source": [
    "norms = np.linalg.norm(w, axis =1)\n"
   ]
  },
  {
   "cell_type": "markdown",
   "metadata": {
    "_uuid": "71d5f9569ed7060cab427701c7082638b0ac90fe"
   },
   "source": [
    "As we have `norms`, we generate a visualization of the distribution of lengths of our movie embedding vectors."
   ]
  },
  {
   "cell_type": "code",
   "execution_count": 52,
   "metadata": {
    "_uuid": "d262812f0ae03b498c9aadcf29703368df429c88"
   },
   "outputs": [
    {
     "data": {
      "image/png": "[encoded data removed]",
      "text/plain": [
       "<Figure size 432x288 with 1 Axes>"
      ]
     },
     "metadata": {
      "needs_background": "light"
     },
     "output_type": "display_data"
    }
   ],
   "source": [
    "norm_series = pd.Series(norms)\n",
    "ax = norm_series.plot.hist()\n",
    "ax.set_xlabel('Embedding norm');"
   ]
  },
  {
   "cell_type": "markdown",
   "metadata": {
    "_uuid": "6bdec94e1070d78042bbcd9ca5f6cc870d1f1a6d"
   },
   "source": [
    "### 3b. Patterns in vector lengths?\n",
    "\n",
    "We add a column called `norm` containing the length of each movie's embedding to our DataFrame containing all movies (`movies_df`)."
   ]
  },
  {
   "cell_type": "code",
   "execution_count": 53,
   "metadata": {
    "_uuid": "a0cfd7e48e7bff656029aca3e06f0ce63aafaa0b"
   },
   "outputs": [
    {
     "data": {
      "text/html": [
       "<div>\n",
       "<style scoped>\n",
       "    .dataframe tbody tr th:only-of-type {\n",
       "        vertical-align: middle;\n",
       "    }\n",
       "\n",
       "    .dataframe tbody tr th {\n",
       "        vertical-align: top;\n",
       "    }\n",
       "\n",
       "    .dataframe thead th {\n",
       "        text-align: right;\n",
       "    }\n",
       "</style>\n",
       "<table border=\"1\" class=\"dataframe\">\n",
       "  <thead>\n",
       "    <tr style=\"text-align: right;\">\n",
       "      <th></th>\n",
       "      <th>movieId</th>\n",
       "      <th>title</th>\n",
       "      <th>genres</th>\n",
       "      <th>year</th>\n",
       "      <th>key</th>\n",
       "      <th>n_ratings</th>\n",
       "      <th>mean_rating</th>\n",
       "      <th>norm</th>\n",
       "    </tr>\n",
       "  </thead>\n",
       "  <tbody>\n",
       "    <tr>\n",
       "      <th>0</th>\n",
       "      <td>0</td>\n",
       "      <td>Toy Story</td>\n",
       "      <td>Adventure|Animation|Children|Comedy|Fantasy</td>\n",
       "      <td>1995</td>\n",
       "      <td>Toy Story</td>\n",
       "      <td>49695</td>\n",
       "      <td>3.921240</td>\n",
       "      <td>1.202455</td>\n",
       "    </tr>\n",
       "    <tr>\n",
       "      <th>1</th>\n",
       "      <td>1</td>\n",
       "      <td>Jumanji</td>\n",
       "      <td>Adventure|Children|Fantasy</td>\n",
       "      <td>1995</td>\n",
       "      <td>Jumanji</td>\n",
       "      <td>22243</td>\n",
       "      <td>3.211977</td>\n",
       "      <td>1.150732</td>\n",
       "    </tr>\n",
       "    <tr>\n",
       "      <th>2</th>\n",
       "      <td>2</td>\n",
       "      <td>Grumpier Old Men</td>\n",
       "      <td>Comedy|Romance</td>\n",
       "      <td>1995</td>\n",
       "      <td>Grumpier Old Men</td>\n",
       "      <td>12735</td>\n",
       "      <td>3.151040</td>\n",
       "      <td>1.309365</td>\n",
       "    </tr>\n",
       "    <tr>\n",
       "      <th>3</th>\n",
       "      <td>3</td>\n",
       "      <td>Waiting to Exhale</td>\n",
       "      <td>Comedy|Drama|Romance</td>\n",
       "      <td>1995</td>\n",
       "      <td>Waiting to Exhale</td>\n",
       "      <td>2756</td>\n",
       "      <td>2.861393</td>\n",
       "      <td>1.467930</td>\n",
       "    </tr>\n",
       "    <tr>\n",
       "      <th>4</th>\n",
       "      <td>4</td>\n",
       "      <td>Father of the Bride Part II</td>\n",
       "      <td>Comedy</td>\n",
       "      <td>1995</td>\n",
       "      <td>Father of the Bride Part II</td>\n",
       "      <td>12161</td>\n",
       "      <td>3.064592</td>\n",
       "      <td>1.487438</td>\n",
       "    </tr>\n",
       "  </tbody>\n",
       "</table>\n",
       "</div>"
      ],
      "text/plain": [
       "   movieId                        title  \\\n",
       "0        0                    Toy Story   \n",
       "1        1                      Jumanji   \n",
       "2        2             Grumpier Old Men   \n",
       "3        3            Waiting to Exhale   \n",
       "4        4  Father of the Bride Part II   \n",
       "\n",
       "                                        genres  year  \\\n",
       "0  Adventure|Animation|Children|Comedy|Fantasy  1995   \n",
       "1                   Adventure|Children|Fantasy  1995   \n",
       "2                               Comedy|Romance  1995   \n",
       "3                         Comedy|Drama|Romance  1995   \n",
       "4                                       Comedy  1995   \n",
       "\n",
       "                           key  n_ratings  mean_rating      norm  \n",
       "0                    Toy Story      49695     3.921240  1.202455  \n",
       "1                      Jumanji      22243     3.211977  1.150732  \n",
       "2             Grumpier Old Men      12735     3.151040  1.309365  \n",
       "3            Waiting to Exhale       2756     2.861393  1.467930  \n",
       "4  Father of the Bride Part II      12161     3.064592  1.487438  "
      ]
     },
     "execution_count": 53,
     "metadata": {},
     "output_type": "execute_result"
    }
   ],
   "source": [
    "# TODO: Your code goes here. Add the column \"norm\" to our movies dataframe.\n",
    "movies_df['norm'] = norms\n",
    "\n",
    "movies_df.head()"
   ]
  },
  {
   "cell_type": "markdown",
   "metadata": {
    "_uuid": "a2b98e87e3eb88f76a66a74c6af8038d99786283"
   },
   "source": [
    "Run the cells below to see the movies with the largest and smallest embedding vectors. To find a pattern if any"
   ]
  },
  {
   "cell_type": "code",
   "execution_count": 54,
   "metadata": {
    "_uuid": "903b10623621068651b3c4adc402f2b3aac8d5be"
   },
   "outputs": [
    {
     "data": {
      "text/html": [
       "<div>\n",
       "<style scoped>\n",
       "    .dataframe tbody tr th:only-of-type {\n",
       "        vertical-align: middle;\n",
       "    }\n",
       "\n",
       "    .dataframe tbody tr th {\n",
       "        vertical-align: top;\n",
       "    }\n",
       "\n",
       "    .dataframe thead th {\n",
       "        text-align: right;\n",
       "    }\n",
       "</style>\n",
       "<table border=\"1\" class=\"dataframe\">\n",
       "  <thead>\n",
       "    <tr style=\"text-align: right;\">\n",
       "      <th></th>\n",
       "      <th>movieId</th>\n",
       "      <th>title</th>\n",
       "      <th>genres</th>\n",
       "      <th>year</th>\n",
       "      <th>key</th>\n",
       "      <th>n_ratings</th>\n",
       "      <th>mean_rating</th>\n",
       "      <th>norm</th>\n",
       "    </tr>\n",
       "  </thead>\n",
       "  <tbody>\n",
       "    <tr>\n",
       "      <th>25395</th>\n",
       "      <td>25395</td>\n",
       "      <td>Killer Pad</td>\n",
       "      <td>Comedy|Horror</td>\n",
       "      <td>2008</td>\n",
       "      <td>Killer Pad</td>\n",
       "      <td>1</td>\n",
       "      <td>2.0</td>\n",
       "      <td>0.0</td>\n",
       "    </tr>\n",
       "    <tr>\n",
       "      <th>25321</th>\n",
       "      <td>25321</td>\n",
       "      <td>Hotel Very Welcome</td>\n",
       "      <td>Comedy|Drama</td>\n",
       "      <td>2007</td>\n",
       "      <td>Hotel Very Welcome</td>\n",
       "      <td>1</td>\n",
       "      <td>3.5</td>\n",
       "      <td>0.0</td>\n",
       "    </tr>\n",
       "    <tr>\n",
       "      <th>21304</th>\n",
       "      <td>21304</td>\n",
       "      <td>Page Miss Glory</td>\n",
       "      <td>Comedy</td>\n",
       "      <td>1935</td>\n",
       "      <td>Page Miss Glory</td>\n",
       "      <td>1</td>\n",
       "      <td>2.5</td>\n",
       "      <td>0.0</td>\n",
       "    </tr>\n",
       "    <tr>\n",
       "      <th>21245</th>\n",
       "      <td>21245</td>\n",
       "      <td>Love Is a Woman (Death Is a Woman)</td>\n",
       "      <td>Crime|Drama|Mystery</td>\n",
       "      <td>1966</td>\n",
       "      <td>Love Is a Woman (Death Is a Woman)</td>\n",
       "      <td>1</td>\n",
       "      <td>3.0</td>\n",
       "      <td>0.0</td>\n",
       "    </tr>\n",
       "    <tr>\n",
       "      <th>21098</th>\n",
       "      <td>21098</td>\n",
       "      <td>Days of Grace (Días de gracia)</td>\n",
       "      <td>Thriller</td>\n",
       "      <td>2011</td>\n",
       "      <td>Days of Grace (Días de gracia)</td>\n",
       "      <td>1</td>\n",
       "      <td>3.5</td>\n",
       "      <td>0.0</td>\n",
       "    </tr>\n",
       "  </tbody>\n",
       "</table>\n",
       "</div>"
      ],
      "text/plain": [
       "       movieId                               title               genres  year  \\\n",
       "25395    25395                          Killer Pad        Comedy|Horror  2008   \n",
       "25321    25321                  Hotel Very Welcome         Comedy|Drama  2007   \n",
       "21304    21304                     Page Miss Glory               Comedy  1935   \n",
       "21245    21245  Love Is a Woman (Death Is a Woman)  Crime|Drama|Mystery  1966   \n",
       "21098    21098      Days of Grace (Días de gracia)             Thriller  2011   \n",
       "\n",
       "                                      key  n_ratings  mean_rating  norm  \n",
       "25395                          Killer Pad          1          2.0   0.0  \n",
       "25321                  Hotel Very Welcome          1          3.5   0.0  \n",
       "21304                     Page Miss Glory          1          2.5   0.0  \n",
       "21245  Love Is a Woman (Death Is a Woman)          1          3.0   0.0  \n",
       "21098      Days of Grace (Días de gracia)          1          3.5   0.0  "
      ]
     },
     "execution_count": 54,
     "metadata": {},
     "output_type": "execute_result"
    }
   ],
   "source": [
    "n = 5\n",
    "# Movies with the smallest embeddings (as measured by L2 norm)\n",
    "movies_df.sort_values(by='norm').head(n)"
   ]
  },
  {
   "cell_type": "code",
   "execution_count": 56,
   "metadata": {
    "_uuid": "b68a630ec13b9947fa44f78905058ef9f6a66c07"
   },
   "outputs": [
    {
     "data": {
      "text/html": [
       "<div>\n",
       "<style scoped>\n",
       "    .dataframe tbody tr th:only-of-type {\n",
       "        vertical-align: middle;\n",
       "    }\n",
       "\n",
       "    .dataframe tbody tr th {\n",
       "        vertical-align: top;\n",
       "    }\n",
       "\n",
       "    .dataframe thead th {\n",
       "        text-align: right;\n",
       "    }\n",
       "</style>\n",
       "<table border=\"1\" class=\"dataframe\">\n",
       "  <thead>\n",
       "    <tr style=\"text-align: right;\">\n",
       "      <th></th>\n",
       "      <th>movieId</th>\n",
       "      <th>title</th>\n",
       "      <th>genres</th>\n",
       "      <th>year</th>\n",
       "      <th>key</th>\n",
       "      <th>n_ratings</th>\n",
       "      <th>mean_rating</th>\n",
       "      <th>norm</th>\n",
       "    </tr>\n",
       "  </thead>\n",
       "  <tbody>\n",
       "    <tr>\n",
       "      <th>6373</th>\n",
       "      <td>6373</td>\n",
       "      <td>From Justin to Kelly</td>\n",
       "      <td>Musical|Romance</td>\n",
       "      <td>2003</td>\n",
       "      <td>From Justin to Kelly</td>\n",
       "      <td>426</td>\n",
       "      <td>0.973005</td>\n",
       "      <td>2.985721</td>\n",
       "    </tr>\n",
       "    <tr>\n",
       "      <th>9754</th>\n",
       "      <td>9754</td>\n",
       "      <td>Son of the Mask</td>\n",
       "      <td>Adventure|Children|Comedy|Fantasy</td>\n",
       "      <td>2005</td>\n",
       "      <td>Son of the Mask</td>\n",
       "      <td>467</td>\n",
       "      <td>1.252677</td>\n",
       "      <td>2.943794</td>\n",
       "    </tr>\n",
       "    <tr>\n",
       "      <th>11594</th>\n",
       "      <td>11594</td>\n",
       "      <td>Epic Movie</td>\n",
       "      <td>Adventure|Comedy</td>\n",
       "      <td>2007</td>\n",
       "      <td>Epic Movie</td>\n",
       "      <td>899</td>\n",
       "      <td>1.488877</td>\n",
       "      <td>2.906200</td>\n",
       "    </tr>\n",
       "    <tr>\n",
       "      <th>4679</th>\n",
       "      <td>4679</td>\n",
       "      <td>Glitter</td>\n",
       "      <td>Drama|Musical|Romance</td>\n",
       "      <td>2001</td>\n",
       "      <td>Glitter</td>\n",
       "      <td>685</td>\n",
       "      <td>1.124088</td>\n",
       "      <td>2.823681</td>\n",
       "    </tr>\n",
       "    <tr>\n",
       "      <th>6477</th>\n",
       "      <td>6477</td>\n",
       "      <td>Gigli</td>\n",
       "      <td>Comedy|Crime|Romance</td>\n",
       "      <td>2003</td>\n",
       "      <td>Gigli</td>\n",
       "      <td>701</td>\n",
       "      <td>1.164051</td>\n",
       "      <td>2.801580</td>\n",
       "    </tr>\n",
       "  </tbody>\n",
       "</table>\n",
       "</div>"
      ],
      "text/plain": [
       "       movieId                 title                             genres  year  \\\n",
       "6373      6373  From Justin to Kelly                    Musical|Romance  2003   \n",
       "9754      9754       Son of the Mask  Adventure|Children|Comedy|Fantasy  2005   \n",
       "11594    11594            Epic Movie                   Adventure|Comedy  2007   \n",
       "4679      4679               Glitter              Drama|Musical|Romance  2001   \n",
       "6477      6477                 Gigli               Comedy|Crime|Romance  2003   \n",
       "\n",
       "                        key  n_ratings  mean_rating      norm  \n",
       "6373   From Justin to Kelly        426     0.973005  2.985721  \n",
       "9754        Son of the Mask        467     1.252677  2.943794  \n",
       "11594            Epic Movie        899     1.488877  2.906200  \n",
       "4679                Glitter        685     1.124088  2.823681  \n",
       "6477                  Gigli        701     1.164051  2.801580  "
      ]
     },
     "execution_count": 56,
     "metadata": {},
     "output_type": "execute_result"
    }
   ],
   "source": [
    "# Movies with the largest embeddings\n",
    "movies_df.sort_values(by='norm', ascending=False).head(n)"
   ]
  },
  {
   "cell_type": "markdown",
   "metadata": {
    "_uuid": "7c999998d2bbff67c60d90213f8d11692e775e99"
   },
   "source": [
    "Below are some speculations or observations."
   ]
  },
  {
   "cell_type": "markdown",
   "metadata": {
    "_uuid": "654bb923a4fe672d2b9b9e90ce50e4f2cedcb1b1"
   },
   "source": [
    ">We have some movies whose embeddinging norms are 0 or very close to it - they also seem to be among the movies with the fewest ratings in the dataset. This is consistent with what we'd expect from a model trained with an L2 weight penalty on embeddings - there's a cost to increasing an embedding's size.\n",
    "\n",
    ">Memorizing some properties of an obscure movie that only occurs once or twice in the dataset won't do much to decrease our overall error - so it's not worth paying the regularization cost.\n",
    "\n",
    ">On the other hand, the movies with the biggest embeddings are *not* necessarily the ones with the most ratings in the dataset. "
   ]
  },
  {
   "cell_type": "code",
   "execution_count": null,
   "metadata": {
    "_uuid": "814789d1e6b0c0bcf997a6f69b80274950956485"
   },
   "outputs": [],
   "source": []
  }
 ],
 "metadata": {
  "kernelspec": {
   "display_name": "Python 3",
   "language": "python",
   "name": "python3"
  },
  "language_info": {
   "codemirror_mode": {
    "name": "ipython",
    "version": 3
   },
   "file_extension": ".py",
   "mimetype": "text/x-python",
   "name": "python",
   "nbconvert_exporter": "python",
   "pygments_lexer": "ipython3",
   "version": "3.6.7"
  },
  "learntools_metadata": {
   "lesson_index": 2,
   "type": "exercise"
  }
 },
 "nbformat": 4,
 "nbformat_minor": 1
}
